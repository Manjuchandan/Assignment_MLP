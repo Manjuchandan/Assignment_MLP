{
 "cells": [
  {
   "cell_type": "code",
   "execution_count": 9,
   "metadata": {},
   "outputs": [],
   "source": [
    "import pandas as pd\n",
    "import numpy as np\n",
    "from sklearn.model_selection import train_test_split\n",
    "\n",
    "from random import random\n",
    "from random import seed\n",
    "from math import exp"
   ]
  },
  {
   "cell_type": "code",
   "execution_count": 10,
   "metadata": {},
   "outputs": [],
   "source": [
    "df=pd.read_csv('dataset.csv',index_col=0)"
   ]
  },
  {
   "cell_type": "code",
   "execution_count": 11,
   "metadata": {},
   "outputs": [
    {
     "data": {
      "text/html": [
       "<div>\n",
       "<style scoped>\n",
       "    .dataframe tbody tr th:only-of-type {\n",
       "        vertical-align: middle;\n",
       "    }\n",
       "\n",
       "    .dataframe tbody tr th {\n",
       "        vertical-align: top;\n",
       "    }\n",
       "\n",
       "    .dataframe thead th {\n",
       "        text-align: right;\n",
       "    }\n",
       "</style>\n",
       "<table border=\"1\" class=\"dataframe\">\n",
       "  <thead>\n",
       "    <tr style=\"text-align: right;\">\n",
       "      <th></th>\n",
       "      <th>trial1</th>\n",
       "      <th>trial2</th>\n",
       "      <th>trial3</th>\n",
       "      <th>trial4</th>\n",
       "      <th>trial5</th>\n",
       "      <th>label</th>\n",
       "    </tr>\n",
       "  </thead>\n",
       "  <tbody>\n",
       "    <tr>\n",
       "      <th>0</th>\n",
       "      <td>0.174107</td>\n",
       "      <td>-0.195709</td>\n",
       "      <td>-2.181306</td>\n",
       "      <td>1.085189</td>\n",
       "      <td>1.127734</td>\n",
       "      <td>1</td>\n",
       "    </tr>\n",
       "    <tr>\n",
       "      <th>1</th>\n",
       "      <td>1.072546</td>\n",
       "      <td>-1.350565</td>\n",
       "      <td>-0.647296</td>\n",
       "      <td>-1.003272</td>\n",
       "      <td>0.286490</td>\n",
       "      <td>1</td>\n",
       "    </tr>\n",
       "    <tr>\n",
       "      <th>2</th>\n",
       "      <td>-1.661356</td>\n",
       "      <td>-0.400861</td>\n",
       "      <td>-1.292950</td>\n",
       "      <td>0.351150</td>\n",
       "      <td>0.809441</td>\n",
       "      <td>1</td>\n",
       "    </tr>\n",
       "    <tr>\n",
       "      <th>3</th>\n",
       "      <td>-0.051537</td>\n",
       "      <td>1.185729</td>\n",
       "      <td>1.479820</td>\n",
       "      <td>0.343484</td>\n",
       "      <td>-1.280368</td>\n",
       "      <td>1</td>\n",
       "    </tr>\n",
       "    <tr>\n",
       "      <th>4</th>\n",
       "      <td>1.400416</td>\n",
       "      <td>0.011803</td>\n",
       "      <td>1.126713</td>\n",
       "      <td>-0.652088</td>\n",
       "      <td>0.962291</td>\n",
       "      <td>1</td>\n",
       "    </tr>\n",
       "  </tbody>\n",
       "</table>\n",
       "</div>"
      ],
      "text/plain": [
       "     trial1    trial2    trial3    trial4    trial5  label\n",
       "0  0.174107 -0.195709 -2.181306  1.085189  1.127734      1\n",
       "1  1.072546 -1.350565 -0.647296 -1.003272  0.286490      1\n",
       "2 -1.661356 -0.400861 -1.292950  0.351150  0.809441      1\n",
       "3 -0.051537  1.185729  1.479820  0.343484 -1.280368      1\n",
       "4  1.400416  0.011803  1.126713 -0.652088  0.962291      1"
      ]
     },
     "execution_count": 11,
     "metadata": {},
     "output_type": "execute_result"
    }
   ],
   "source": [
    "df.head()"
   ]
  },
  {
   "cell_type": "code",
   "execution_count": 12,
   "metadata": {},
   "outputs": [
    {
     "data": {
      "text/html": [
       "<div>\n",
       "<style scoped>\n",
       "    .dataframe tbody tr th:only-of-type {\n",
       "        vertical-align: middle;\n",
       "    }\n",
       "\n",
       "    .dataframe tbody tr th {\n",
       "        vertical-align: top;\n",
       "    }\n",
       "\n",
       "    .dataframe thead th {\n",
       "        text-align: right;\n",
       "    }\n",
       "</style>\n",
       "<table border=\"1\" class=\"dataframe\">\n",
       "  <thead>\n",
       "    <tr style=\"text-align: right;\">\n",
       "      <th></th>\n",
       "      <th>trial1</th>\n",
       "      <th>trial2</th>\n",
       "      <th>trial3</th>\n",
       "      <th>trial4</th>\n",
       "      <th>trial5</th>\n",
       "      <th>label</th>\n",
       "    </tr>\n",
       "  </thead>\n",
       "  <tbody>\n",
       "    <tr>\n",
       "      <th>count</th>\n",
       "      <td>200.000000</td>\n",
       "      <td>200.000000</td>\n",
       "      <td>200.000000</td>\n",
       "      <td>200.000000</td>\n",
       "      <td>200.000000</td>\n",
       "      <td>200.000000</td>\n",
       "    </tr>\n",
       "    <tr>\n",
       "      <th>mean</th>\n",
       "      <td>-0.012211</td>\n",
       "      <td>-0.020811</td>\n",
       "      <td>-0.037187</td>\n",
       "      <td>0.000582</td>\n",
       "      <td>0.083383</td>\n",
       "      <td>0.555000</td>\n",
       "    </tr>\n",
       "    <tr>\n",
       "      <th>std</th>\n",
       "      <td>1.013218</td>\n",
       "      <td>1.408401</td>\n",
       "      <td>1.312847</td>\n",
       "      <td>1.330810</td>\n",
       "      <td>0.993630</td>\n",
       "      <td>0.498213</td>\n",
       "    </tr>\n",
       "    <tr>\n",
       "      <th>min</th>\n",
       "      <td>-2.549133</td>\n",
       "      <td>-3.910150</td>\n",
       "      <td>-4.058890</td>\n",
       "      <td>-3.970649</td>\n",
       "      <td>-3.410254</td>\n",
       "      <td>0.000000</td>\n",
       "    </tr>\n",
       "    <tr>\n",
       "      <th>25%</th>\n",
       "      <td>-0.634045</td>\n",
       "      <td>-1.377796</td>\n",
       "      <td>-0.955089</td>\n",
       "      <td>-1.021369</td>\n",
       "      <td>-0.546093</td>\n",
       "      <td>0.000000</td>\n",
       "    </tr>\n",
       "    <tr>\n",
       "      <th>50%</th>\n",
       "      <td>-0.047067</td>\n",
       "      <td>0.046403</td>\n",
       "      <td>0.150157</td>\n",
       "      <td>0.327429</td>\n",
       "      <td>0.103438</td>\n",
       "      <td>1.000000</td>\n",
       "    </tr>\n",
       "    <tr>\n",
       "      <th>75%</th>\n",
       "      <td>0.665015</td>\n",
       "      <td>1.188999</td>\n",
       "      <td>0.940074</td>\n",
       "      <td>1.027700</td>\n",
       "      <td>0.717600</td>\n",
       "      <td>1.000000</td>\n",
       "    </tr>\n",
       "    <tr>\n",
       "      <th>max</th>\n",
       "      <td>2.576821</td>\n",
       "      <td>2.825650</td>\n",
       "      <td>2.664412</td>\n",
       "      <td>2.788147</td>\n",
       "      <td>2.261946</td>\n",
       "      <td>1.000000</td>\n",
       "    </tr>\n",
       "  </tbody>\n",
       "</table>\n",
       "</div>"
      ],
      "text/plain": [
       "           trial1      trial2      trial3      trial4      trial5       label\n",
       "count  200.000000  200.000000  200.000000  200.000000  200.000000  200.000000\n",
       "mean    -0.012211   -0.020811   -0.037187    0.000582    0.083383    0.555000\n",
       "std      1.013218    1.408401    1.312847    1.330810    0.993630    0.498213\n",
       "min     -2.549133   -3.910150   -4.058890   -3.970649   -3.410254    0.000000\n",
       "25%     -0.634045   -1.377796   -0.955089   -1.021369   -0.546093    0.000000\n",
       "50%     -0.047067    0.046403    0.150157    0.327429    0.103438    1.000000\n",
       "75%      0.665015    1.188999    0.940074    1.027700    0.717600    1.000000\n",
       "max      2.576821    2.825650    2.664412    2.788147    2.261946    1.000000"
      ]
     },
     "execution_count": 12,
     "metadata": {},
     "output_type": "execute_result"
    }
   ],
   "source": [
    "df.describe()"
   ]
  },
  {
   "cell_type": "code",
   "execution_count": 16,
   "metadata": {},
   "outputs": [],
   "source": [
    "def initialize_network(n_inputs, n_hidden, n_outputs):\n",
    "    network=list()\n",
    "    hidden_layer = [{'weights':[random() for i in range(n_inputs + 1)]} for i in range(n_hidden)]\n",
    "    network.append(hidden_layer)\n",
    "    output_layer = [{'weights':[random() for i in range(n_hidden + 1)]} for i in range(n_outputs)]\n",
    "    network.append(output_layer)\n",
    "    return network"
   ]
  },
  {
   "cell_type": "code",
   "execution_count": 25,
   "metadata": {},
   "outputs": [],
   "source": [
    "def activate(weights, inputs):\n",
    "    activation=weights[-1]\n",
    "    for i in range(len(weights)-1):\n",
    "        activation+=weights[i]*inputs[i]\n",
    "    return activation\n",
    "\n",
    "def transfer(activation):\n",
    "    return 1.0 / (1.0 + exp(-activation))"
   ]
  },
  {
   "cell_type": "code",
   "execution_count": 30,
   "metadata": {},
   "outputs": [],
   "source": [
    "def forward_propagate(network,raw):\n",
    "    inputs=raw\n",
    "    for layer in network:\n",
    "        new_inputs=[]\n",
    "        for neuron in layer:\n",
    "            activation=activate(neuron['weights'], inputs)\n",
    "            neuron['output']=transfer(activation)\n",
    "            new_inputs.append(neuron['output'])\n",
    "        inputs=new_inputs\n",
    "    return inputs\n",
    "\n",
    "\n",
    "def transfer_derivative(output):\n",
    "    return output * (1.0 - output)"
   ]
  },
  {
   "cell_type": "code",
   "execution_count": 36,
   "metadata": {},
   "outputs": [],
   "source": [
    "def backward_propagate_error(network, expected):\n",
    "\tfor i in reversed(range(len(network))):\n",
    "\t\tlayer = network[i]\n",
    "\t\terrors = list()\n",
    "\t\tif i != len(network)-1:\n",
    "\t\t\tfor j in range(len(layer)):\n",
    "\t\t\t\terror = 0.0\n",
    "\t\t\t\tfor neuron in network[i + 1]:\n",
    "\t\t\t\t\terror += (neuron['weights'][j] * neuron['delta'])\n",
    "\t\t\t\terrors.append(error)\n",
    "\t\telse:\n",
    "\t\t\tfor j in range(len(layer)):\n",
    "\t\t\t\tneuron = layer[j]\n",
    "\t\t\t\terrors.append(expected[j] - neuron['output'])\n",
    "\t\tfor j in range(len(layer)):\n",
    "\t\t\tneuron = layer[j]\n",
    "\t\t\tneuron['delta'] = errors[j] * transfer_derivative(neuron['output'])"
   ]
  },
  {
   "cell_type": "code",
   "execution_count": 42,
   "metadata": {},
   "outputs": [],
   "source": [
    "def update_weights(network, row, l_rate):\n",
    "    for i in range(len(network)):\n",
    "        inputs=row[:-1]\n",
    "        if i!=0:\n",
    "            inputs=[neuron['output'] for neuron in network[i-1]]\n",
    "        for neuron in network[i]:\n",
    "            for j in range(len(inputs)):\n",
    "                neuron['weights'][j]+=l_rate*neuron['delta']*inputs[j]\n",
    "            neuron['weights'][-1]+=l_rate*neuron['delta']"
   ]
  },
  {
   "cell_type": "code",
   "execution_count": 45,
   "metadata": {},
   "outputs": [],
   "source": [
    "def train_network(network, train, l_rate, n_epoch, n_outputs):\n",
    "    for epoch in range(n_epoch):\n",
    "        sum_error = 0\n",
    "        for row in train:\n",
    "            outputs = forward_propagate(network, row)\n",
    "            expected = [0 for i in range(n_outputs)]\n",
    "            expected[int(row[-1])] = 1\n",
    "            sum_error += sum([(expected[i]-outputs[i])**2 for i in range(len(expected))])\n",
    "            backward_propagate_error(network, expected)\n",
    "            update_weights(network, row, l_rate)\n",
    "        print('>Epoch=%d, Learning_rate=%.3f, Error=%.3f' % (epoch, l_rate, sum_error))"
   ]
  },
  {
   "cell_type": "code",
   "execution_count": 47,
   "metadata": {},
   "outputs": [],
   "source": [
    "def predict(network, row):\n",
    "    outputs = forward_propagate(network, row)\n",
    "    return outputs.index(max(outputs))"
   ]
  },
  {
   "cell_type": "code",
   "execution_count": 49,
   "metadata": {},
   "outputs": [],
   "source": [
    "\n",
    "X=np.array(df.loc[:,df.columns != 'label'])\n",
    "y=np.array(df.loc[:,df.columns == 'label'])"
   ]
  },
  {
   "cell_type": "code",
   "execution_count": 62,
   "metadata": {},
   "outputs": [
    {
     "data": {
      "text/plain": [
       "array([[ 0.17410676, -0.19570903, -2.18130625,  1.08518927,  1.12773397,\n",
       "         1.        ],\n",
       "       [ 1.07254601, -1.35056543, -0.647296  , -1.00327157,  0.28648957,\n",
       "         1.        ],\n",
       "       [-1.66135607, -0.4008605 , -1.29295026,  0.35114996,  0.80944116,\n",
       "         1.        ],\n",
       "       ...,\n",
       "       [ 0.3299558 ,  1.27467778,  1.50805919,  0.41804312, -1.65957122,\n",
       "         1.        ],\n",
       "       [ 0.61177012,  0.0577717 , -1.49430942,  0.94012413, -0.91271051,\n",
       "         0.        ],\n",
       "       [-1.81544894, -1.5662738 ,  0.63642427, -1.9812005 ,  0.22954838,\n",
       "         1.        ]])"
      ]
     },
     "execution_count": 62,
     "metadata": {},
     "output_type": "execute_result"
    }
   ],
   "source": [
    "dataset=np.array(df[:])\n",
    "dataset"
   ]
  },
  {
   "cell_type": "code",
   "execution_count": 55,
   "metadata": {},
   "outputs": [
    {
     "name": "stdout",
     "output_type": "stream",
     "text": [
      "5 2\n"
     ]
    }
   ],
   "source": [
    "n_inputs = len(dataset[0]) - 1\n",
    "n_outputs = len(set([row[-1] for row in dataset]))\n",
    "print(n_inputs,n_outputs)"
   ]
  },
  {
   "cell_type": "code",
   "execution_count": 57,
   "metadata": {},
   "outputs": [],
   "source": [
    "train_dataset=dataset[:150]\n",
    "test_dataset=dataset[150:]\n"
   ]
  },
  {
   "cell_type": "code",
   "execution_count": 58,
   "metadata": {},
   "outputs": [
    {
     "name": "stdout",
     "output_type": "stream",
     "text": [
      ">Epoch=0, Learning_rate=0.500, Error=76.441\n",
      ">Epoch=1, Learning_rate=0.500, Error=68.880\n",
      ">Epoch=2, Learning_rate=0.500, Error=58.296\n",
      ">Epoch=3, Learning_rate=0.500, Error=52.370\n",
      ">Epoch=4, Learning_rate=0.500, Error=50.313\n",
      ">Epoch=5, Learning_rate=0.500, Error=49.484\n",
      ">Epoch=6, Learning_rate=0.500, Error=49.065\n",
      ">Epoch=7, Learning_rate=0.500, Error=48.833\n",
      ">Epoch=8, Learning_rate=0.500, Error=48.701\n",
      ">Epoch=9, Learning_rate=0.500, Error=48.617\n",
      ">Epoch=10, Learning_rate=0.500, Error=48.551\n",
      ">Epoch=11, Learning_rate=0.500, Error=48.492\n",
      ">Epoch=12, Learning_rate=0.500, Error=48.433\n",
      ">Epoch=13, Learning_rate=0.500, Error=48.371\n",
      ">Epoch=14, Learning_rate=0.500, Error=48.307\n",
      ">Epoch=15, Learning_rate=0.500, Error=48.239\n",
      ">Epoch=16, Learning_rate=0.500, Error=48.169\n",
      ">Epoch=17, Learning_rate=0.500, Error=48.099\n",
      ">Epoch=18, Learning_rate=0.500, Error=48.028\n",
      ">Epoch=19, Learning_rate=0.500, Error=47.958\n"
     ]
    }
   ],
   "source": [
    "network=initialize_network(n_inputs,1,n_outputs)\n",
    "train_network(network, train_dataset, 0.5, 20, n_outputs)"
   ]
  },
  {
   "cell_type": "code",
   "execution_count": 63,
   "metadata": {},
   "outputs": [
    {
     "name": "stdout",
     "output_type": "stream",
     "text": [
      "[{'weights': [-0.8791516881585492, 1.5424882327436331, 5.0505707619071085, -1.2269563125227407, 0.26123210517493295, -2.000347192671955], 'output': 0.00011910146237192811, 'delta': -2.6438777385447488e-05}]\n",
      "[{'weights': [-3.3078330514395953, 1.3692399821897387], 'output': 0.7944670855078335, 'delta': 0.033561291935016335}, {'weights': [3.309392092532545, -1.3696915568390988], 'output': 0.205457466548289, 'delta': -0.03353984166510883}]\n"
     ]
    }
   ],
   "source": [
    "for layer in network:\n",
    "    print(layer)"
   ]
  },
  {
   "cell_type": "code",
   "execution_count": 65,
   "metadata": {},
   "outputs": [],
   "source": [
    "y_test=[]\n",
    "y_pred=[]\n",
    "for row in test_dataset:\n",
    "    prediction = predict(network, row)\n",
    "    y_test.append(row[-1])\n",
    "    y_pred.append(prediction)"
   ]
  },
  {
   "cell_type": "code",
   "execution_count": null,
   "metadata": {},
   "outputs": [],
   "source": []
  }
 ],
 "metadata": {
  "kernelspec": {
   "display_name": "Python 3",
   "language": "python",
   "name": "python3"
  },
  "language_info": {
   "codemirror_mode": {
    "name": "ipython",
    "version": 3
   },
   "file_extension": ".py",
   "mimetype": "text/x-python",
   "name": "python",
   "nbconvert_exporter": "python",
   "pygments_lexer": "ipython3",
   "version": "3.7.6"
  }
 },
 "nbformat": 4,
 "nbformat_minor": 4
}
