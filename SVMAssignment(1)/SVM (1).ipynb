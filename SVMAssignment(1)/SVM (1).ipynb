{
 "cells": [
  {
   "cell_type": "code",
   "execution_count": 7,
   "metadata": {},
   "outputs": [],
   "source": [
    "import tensorflow as tf\n",
    "from tensorflow import keras\n",
    "import numpy as np\n",
    "import pandas as pd\n",
    "import seaborn as sns\n",
    "import sklearn\n",
    "import matplotlib.pyplot as plt\n",
    "from sklearn.model_selection import train_test_split\n",
    "from sklearn import datasets\n",
    "import random\n",
    "from sklearn.datasets.samples_generator import make_blobs\n",
    "from sklearn.svm import SVC\n",
    "from sklearn import preprocessing\n",
    "from sklearn import utils"
   ]
  },
  {
   "cell_type": "code",
   "execution_count": 8,
   "metadata": {},
   "outputs": [],
   "source": [
    "#Generating Random dataset...\n",
    "X, Y = make_blobs(n_samples=1000, centers=2, \n",
    "                  random_state=0, cluster_std=0.40) "
   ]
  },
  {
   "cell_type": "code",
   "execution_count": 9,
   "metadata": {},
   "outputs": [],
   "source": [
    "df=pd.DataFrame(X,columns=['feature1','feature2'])\n"
   ]
  },
  {
   "cell_type": "code",
   "execution_count": 10,
   "metadata": {},
   "outputs": [
    {
     "data": {
      "text/html": [
       "<div>\n",
       "<style scoped>\n",
       "    .dataframe tbody tr th:only-of-type {\n",
       "        vertical-align: middle;\n",
       "    }\n",
       "\n",
       "    .dataframe tbody tr th {\n",
       "        vertical-align: top;\n",
       "    }\n",
       "\n",
       "    .dataframe thead th {\n",
       "        text-align: right;\n",
       "    }\n",
       "</style>\n",
       "<table border=\"1\" class=\"dataframe\">\n",
       "  <thead>\n",
       "    <tr style=\"text-align: right;\">\n",
       "      <th></th>\n",
       "      <th>feature1</th>\n",
       "      <th>feature2</th>\n",
       "    </tr>\n",
       "  </thead>\n",
       "  <tbody>\n",
       "    <tr>\n",
       "      <th>0</th>\n",
       "      <td>0.772409</td>\n",
       "      <td>4.128558</td>\n",
       "    </tr>\n",
       "    <tr>\n",
       "      <th>1</th>\n",
       "      <td>1.723293</td>\n",
       "      <td>3.912876</td>\n",
       "    </tr>\n",
       "    <tr>\n",
       "      <th>2</th>\n",
       "      <td>0.830248</td>\n",
       "      <td>3.587256</td>\n",
       "    </tr>\n",
       "    <tr>\n",
       "      <th>3</th>\n",
       "      <td>2.759774</td>\n",
       "      <td>1.199302</td>\n",
       "    </tr>\n",
       "    <tr>\n",
       "      <th>4</th>\n",
       "      <td>1.745549</td>\n",
       "      <td>0.789908</td>\n",
       "    </tr>\n",
       "    <tr>\n",
       "      <th>5</th>\n",
       "      <td>0.981163</td>\n",
       "      <td>4.931491</td>\n",
       "    </tr>\n",
       "    <tr>\n",
       "      <th>6</th>\n",
       "      <td>1.653538</td>\n",
       "      <td>0.498387</td>\n",
       "    </tr>\n",
       "    <tr>\n",
       "      <th>7</th>\n",
       "      <td>0.951620</td>\n",
       "      <td>4.260865</td>\n",
       "    </tr>\n",
       "    <tr>\n",
       "      <th>8</th>\n",
       "      <td>0.936889</td>\n",
       "      <td>4.038396</td>\n",
       "    </tr>\n",
       "    <tr>\n",
       "      <th>9</th>\n",
       "      <td>1.598507</td>\n",
       "      <td>0.373276</td>\n",
       "    </tr>\n",
       "  </tbody>\n",
       "</table>\n",
       "</div>"
      ],
      "text/plain": [
       "   feature1  feature2\n",
       "0  0.772409  4.128558\n",
       "1  1.723293  3.912876\n",
       "2  0.830248  3.587256\n",
       "3  2.759774  1.199302\n",
       "4  1.745549  0.789908\n",
       "5  0.981163  4.931491\n",
       "6  1.653538  0.498387\n",
       "7  0.951620  4.260865\n",
       "8  0.936889  4.038396\n",
       "9  1.598507  0.373276"
      ]
     },
     "execution_count": 10,
     "metadata": {},
     "output_type": "execute_result"
    }
   ],
   "source": [
    "df.head(10)"
   ]
  },
  {
   "cell_type": "code",
   "execution_count": 11,
   "metadata": {},
   "outputs": [],
   "source": [
    "#Plotting of Data points"
   ]
  },
  {
   "cell_type": "code",
   "execution_count": 12,
   "metadata": {},
   "outputs": [
    {
     "data": {
      "text/plain": [
       "<matplotlib.collections.PathCollection at 0x7f9e54715450>"
      ]
     },
     "execution_count": 12,
     "metadata": {},
     "output_type": "execute_result"
    },
    {
     "data": {
      "image/png": "[encoded data removed]",
      "text/plain": [
       "<Figure size 432x288 with 1 Axes>"
      ]
     },
     "metadata": {
      "needs_background": "light"
     },
     "output_type": "display_data"
    }
   ],
   "source": [
    "plt.scatter(X[:, 0], X[:, 1], c=Y, s=50, cmap='spring') "
   ]
  },
  {
   "cell_type": "code",
   "execution_count": 13,
   "metadata": {},
   "outputs": [],
   "source": [
    "df.to_csv('random.csv',index=False)"
   ]
  },
  {
   "cell_type": "code",
   "execution_count": 14,
   "metadata": {},
   "outputs": [],
   "source": [
    "df1=pd.read_csv('random.csv')"
   ]
  },
  {
   "cell_type": "code",
   "execution_count": 15,
   "metadata": {},
   "outputs": [
    {
     "data": {
      "text/html": [
       "<div>\n",
       "<style scoped>\n",
       "    .dataframe tbody tr th:only-of-type {\n",
       "        vertical-align: middle;\n",
       "    }\n",
       "\n",
       "    .dataframe tbody tr th {\n",
       "        vertical-align: top;\n",
       "    }\n",
       "\n",
       "    .dataframe thead th {\n",
       "        text-align: right;\n",
       "    }\n",
       "</style>\n",
       "<table border=\"1\" class=\"dataframe\">\n",
       "  <thead>\n",
       "    <tr style=\"text-align: right;\">\n",
       "      <th></th>\n",
       "      <th>feature1</th>\n",
       "      <th>feature2</th>\n",
       "    </tr>\n",
       "  </thead>\n",
       "  <tbody>\n",
       "    <tr>\n",
       "      <th>0</th>\n",
       "      <td>0.772409</td>\n",
       "      <td>4.128558</td>\n",
       "    </tr>\n",
       "    <tr>\n",
       "      <th>1</th>\n",
       "      <td>1.723293</td>\n",
       "      <td>3.912876</td>\n",
       "    </tr>\n",
       "    <tr>\n",
       "      <th>2</th>\n",
       "      <td>0.830248</td>\n",
       "      <td>3.587256</td>\n",
       "    </tr>\n",
       "    <tr>\n",
       "      <th>3</th>\n",
       "      <td>2.759774</td>\n",
       "      <td>1.199302</td>\n",
       "    </tr>\n",
       "    <tr>\n",
       "      <th>4</th>\n",
       "      <td>1.745549</td>\n",
       "      <td>0.789908</td>\n",
       "    </tr>\n",
       "    <tr>\n",
       "      <th>5</th>\n",
       "      <td>0.981163</td>\n",
       "      <td>4.931491</td>\n",
       "    </tr>\n",
       "    <tr>\n",
       "      <th>6</th>\n",
       "      <td>1.653538</td>\n",
       "      <td>0.498387</td>\n",
       "    </tr>\n",
       "    <tr>\n",
       "      <th>7</th>\n",
       "      <td>0.951620</td>\n",
       "      <td>4.260865</td>\n",
       "    </tr>\n",
       "    <tr>\n",
       "      <th>8</th>\n",
       "      <td>0.936889</td>\n",
       "      <td>4.038396</td>\n",
       "    </tr>\n",
       "    <tr>\n",
       "      <th>9</th>\n",
       "      <td>1.598507</td>\n",
       "      <td>0.373276</td>\n",
       "    </tr>\n",
       "  </tbody>\n",
       "</table>\n",
       "</div>"
      ],
      "text/plain": [
       "   feature1  feature2\n",
       "0  0.772409  4.128558\n",
       "1  1.723293  3.912876\n",
       "2  0.830248  3.587256\n",
       "3  2.759774  1.199302\n",
       "4  1.745549  0.789908\n",
       "5  0.981163  4.931491\n",
       "6  1.653538  0.498387\n",
       "7  0.951620  4.260865\n",
       "8  0.936889  4.038396\n",
       "9  1.598507  0.373276"
      ]
     },
     "execution_count": 15,
     "metadata": {},
     "output_type": "execute_result"
    }
   ],
   "source": [
    "df1.head(10)"
   ]
  },
  {
   "cell_type": "code",
   "execution_count": 16,
   "metadata": {},
   "outputs": [],
   "source": [
    "#Drawing a stright line to separate the 2 sets of data"
   ]
  },
  {
   "cell_type": "code",
   "execution_count": 17,
   "metadata": {},
   "outputs": [
    {
     "data": {
      "image/png": "[encoded data removed]",
      "text/plain": [
       "<Figure size 432x288 with 1 Axes>"
      ]
     },
     "metadata": {
      "needs_background": "light"
     },
     "output_type": "display_data"
    }
   ],
   "source": [
    "#Drawing a stright line to separate the 2 sets of data\n",
    "xfit = np.linspace(-2,4.5)\n",
    "plt.scatter(X[:,0],X[:,1],c=Y,s=50,cmap='spring')\n",
    "\n",
    "plt.plot([0.6],[2.1] , 'x' , color='red', markeredgewidth=2 , markersize=10)\n",
    "\n",
    "for m,b in [(1,0.65) , (0.5 , 1.6) , (-0.2 , 2.9)]:\n",
    "\n",
    " plt.plot(xfit , m * xfit + b , '-k')\n",
    "\n",
    "plt.xlim(-2, 4.5);"
   ]
  },
  {
   "cell_type": "code",
   "execution_count": 18,
   "metadata": {},
   "outputs": [],
   "source": [
    "xfit = np.linspace(-2, 4.5) "
   ]
  },
  {
   "cell_type": "code",
   "execution_count": 19,
   "metadata": {},
   "outputs": [
    {
     "data": {
      "image/png": "[encoded data removed]",
      "text/plain": [
       "<Figure size 432x288 with 1 Axes>"
      ]
     },
     "metadata": {
      "needs_background": "light"
     },
     "output_type": "display_data"
    }
   ],
   "source": [
    "plt.scatter(X[:,0],X[:,1],c=Y,s=50,cmap='spring')\n",
    "  \n",
    "for m, b, d in [(1, 0.65, 0.33), (0.5, 1.6, 0.55), (-0.2, 2.9, 0.2)]: \n",
    "    yfit = m * xfit + b \n",
    "    plt.plot(xfit, yfit, '-k') \n",
    "    plt.fill_between(xfit, yfit - d, yfit + d, edgecolor='none',  \n",
    "    color='#AAAAAA', alpha=0.4) \n",
    "  \n",
    "plt.xlim(-2, 4.5); \n",
    "plt.show() "
   ]
  },
  {
   "cell_type": "code",
   "execution_count": 20,
   "metadata": {},
   "outputs": [],
   "source": [
    "x=pd.read_csv('random.csv')"
   ]
  },
  {
   "cell_type": "code",
   "execution_count": 21,
   "metadata": {},
   "outputs": [],
   "source": [
    "a=np.array(x)"
   ]
  },
  {
   "cell_type": "code",
   "execution_count": 22,
   "metadata": {},
   "outputs": [],
   "source": [
    "y=a[:,1]"
   ]
  },
  {
   "cell_type": "code",
   "execution_count": 23,
   "metadata": {},
   "outputs": [
    {
     "name": "stdout",
     "output_type": "stream",
     "text": [
      "[[0.77240921 4.12855761]\n",
      " [1.72329327 3.91287618]\n",
      " [0.83024799 3.58725631]\n",
      " ...\n",
      " [2.06637237 0.72744677]\n",
      " [1.16253505 3.68928985]\n",
      " [1.17376679 4.25734575]]\n"
     ]
    },
    {
     "data": {
      "text/plain": [
       "(None,\n",
       " array([ 4.12855761,  3.91287618,  3.58725631,  1.19930193,  0.78990775,\n",
       "         4.93149117,  0.49838697,  4.26086522,  4.03839601,  0.37327551,\n",
       "         4.3815045 ,  1.08930175,  1.2504863 ,  0.47218542,  3.93867393,\n",
       "         3.73578015,  0.81318127,  1.11045352,  0.69010358,  0.89437971,\n",
       "         4.98225996,  3.51633745,  0.65673092,  4.51180357,  4.11137648,\n",
       "         1.30325252,  3.74324841,  3.97321191,  4.18467098,  4.14959142,\n",
       "         1.4205372 ,  0.79657939,  4.20861864,  4.51458901,  4.65075029,\n",
       "         4.06961485,  4.34146425,  0.54327707,  4.45180968,  0.97825564,\n",
       "         0.84463645,  3.97859013,  4.49637992,  0.24112422,  0.43485675,\n",
       "         0.4771075 ,  0.24583022,  1.01826928,  3.61327429,  0.40141382,\n",
       "         0.69749979,  0.50667771,  0.9932771 ,  4.50218771,  1.31269793,\n",
       "         4.37929877,  4.41453609,  0.33543964,  0.52155557,  0.85446213,\n",
       "         4.15586686,  4.43977332,  1.64140219,  4.23516879,  0.67526965,\n",
       "         4.34231587,  0.76656169,  4.82292564,  1.31429102,  0.56201398,\n",
       "         0.47056686,  4.43563652,  0.90419889,  0.65442316,  1.14182037,\n",
       "         4.63578179,  4.22172402,  4.54631514,  4.68348592,  4.73488485,\n",
       "         4.15869086,  4.19164513,  3.90530227,  4.70154508,  1.5835963 ,\n",
       "         1.05023016,  3.67553796,  1.6310378 ,  1.09246979,  3.81957013,\n",
       "         0.63342022,  4.83839851,  4.2759307 ,  4.31363218,  4.63318899,\n",
       "         0.71245496,  4.62476989,  1.61667941,  4.92099317,  0.3738988 ,\n",
       "         3.89478459,  1.10275067,  4.04337709,  4.72556802,  4.63188646,\n",
       "         4.03983064,  3.97180149,  1.13727947,  3.65700491,  0.57763067,\n",
       "         4.42522889,  0.78895503,  0.61932961,  4.44630445,  5.04349282,\n",
       "         0.61372199,  4.83434169,  3.94742129,  1.02056957,  0.81734025,\n",
       "         0.43438239,  4.75701928,  4.22891379,  4.13963461,  4.86871841,\n",
       "         0.38864041,  4.44598004,  0.97346351,  5.19416506,  4.26452717,\n",
       "         1.53307594,  4.20803566,  4.33880782,  3.76510033,  0.94450001,\n",
       "         1.35835725,  0.70674915,  0.47740213,  0.16689911,  4.11553226,\n",
       "         3.79855999,  4.11915349,  1.45980984,  1.7769822 ,  0.7951369 ,\n",
       "         4.78824544,  0.96352118,  1.07079871,  1.36608009,  4.11721969,\n",
       "         3.82820935,  4.24178329,  0.7372692 ,  1.06382391,  4.36947843,\n",
       "         4.519487  ,  4.52610211,  0.84255197,  0.47229048,  4.37530447,\n",
       "         3.47579332,  4.01151623,  3.66296427,  4.61626657,  1.3148547 ,\n",
       "         0.59867439,  4.71185641,  4.04405216,  1.42508407,  4.02078505,\n",
       "         4.25774434,  0.84703593,  0.65980375,  0.28534226,  4.14584752,\n",
       "         0.72227388,  4.64940825,  4.54793908,  4.43457237,  4.75854387,\n",
       "         0.60909114,  4.03171605,  4.19674943,  1.1335451 ,  4.01989614,\n",
       "         0.89175277,  1.29636752,  0.34106155,  4.41174907,  1.40365699,\n",
       "         4.82877547,  1.71156868,  0.56790001,  0.68329784,  3.84001912,\n",
       "         0.66183169,  0.89380077,  1.13295363,  0.82212975,  4.07347214,\n",
       "         0.40157713,  1.1690157 ,  4.1521283 ,  4.79276536, -0.11615812,\n",
       "         0.88734424,  0.79829594,  0.73106403,  3.7646837 ,  4.18180187,\n",
       "         3.82991269,  4.57758777,  4.45453794,  0.92906927,  4.45544802,\n",
       "         4.71556286,  4.65585889,  0.51431387,  4.19821239,  0.9610372 ,\n",
       "         1.78218539,  3.6395074 ,  4.23995795,  3.9859328 ,  4.61478347,\n",
       "         4.56523477,  1.27742587,  0.75844511,  1.14424738,  1.11013501,\n",
       "         0.09820787,  4.68109162,  1.24794193,  4.05123693,  0.96616108,\n",
       "         4.26327473,  0.15978319,  0.8889157 ,  4.31232782,  0.69324747,\n",
       "         1.0884909 ,  4.58641659,  4.15098375,  1.4681904 ,  4.753555  ,\n",
       "         4.32972977,  0.56904985,  1.00678222,  4.59353473,  0.96124713,\n",
       "         1.61814926,  1.27316241,  4.5369688 ,  5.10296976,  4.18286623,\n",
       "         4.25679751,  0.55483238,  4.57455054,  4.25880093,  0.53474361,\n",
       "         1.25616303,  3.19475022,  0.50274898,  1.13654866,  0.68836328,\n",
       "         4.59180083,  4.12243301,  0.60160894,  0.98502249,  1.22028917,\n",
       "         1.11592659,  1.46361331,  3.67698944,  1.08020901,  4.34136862,\n",
       "         1.15183347,  0.83955388,  1.03200155,  4.11259773,  4.34294579,\n",
       "         0.87369246,  4.45982466,  0.74150658,  0.87146831,  4.97655602,\n",
       "         1.35741541,  3.65719765,  0.93676398,  0.95618544,  0.76453895,\n",
       "         4.48194463,  3.94829922,  4.55193065,  0.86341768,  4.28594916,\n",
       "         0.60552082,  1.12285955,  1.31085934,  0.49659622,  1.06448106,\n",
       "         4.21010101,  3.879781  ,  4.61810886,  4.35245733,  4.69154601,\n",
       "         4.16539462,  0.84068549,  4.66200972,  0.53332351,  3.51146874,\n",
       "         0.70097162,  0.80522302,  0.60168932,  1.66659356,  4.22046783,\n",
       "         1.79510442,  3.99915797,  1.11665589,  4.09985003,  4.13976745,\n",
       "         0.69476988,  1.50804668,  4.287227  ,  0.84401055,  4.9110918 ,\n",
       "         0.88291025,  0.54647541,  1.31730094,  1.51647626,  4.21877811,\n",
       "         4.24393351,  1.31956683,  4.9670396 ,  3.75255394,  4.75059384,\n",
       "         1.46536568,  4.09809374,  3.89709187,  4.6323497 ,  0.85990666,\n",
       "         3.79212288,  3.28011346,  0.88354496,  3.82035787,  3.95816933,\n",
       "         3.87017268,  5.0812358 ,  0.90738003,  0.51516029,  0.77833439,\n",
       "         0.86308155,  3.99919044,  4.46802673,  4.82452582,  4.13406028,\n",
       "         3.76718864,  1.71449252,  0.93204445,  4.14217441,  1.34877711,\n",
       "         1.07231905,  4.58168698,  1.1894022 ,  4.25983422,  1.11008066,\n",
       "         0.32566716,  0.88165617,  0.77100154,  4.08800547,  1.14828936,\n",
       "         4.17351954,  1.13316062,  4.73563476,  3.94421046,  1.20870532,\n",
       "         4.05102582,  0.78594499,  0.59098172,  4.18254803,  1.52302556,\n",
       "         1.52741215,  0.4886379 ,  3.90858655,  0.84373468,  0.99630453,\n",
       "         4.19995653,  0.81112607,  4.46222196,  4.40478598,  0.76828067,\n",
       "         1.05787593,  4.15097715,  0.60433854,  0.95623997,  1.02075669,\n",
       "         1.14771112,  4.31077899,  3.75044175,  4.78473927,  1.0488277 ,\n",
       "         1.46812716,  5.20647673,  0.65797395,  0.44981237,  0.19998856,\n",
       "         4.6448081 ,  5.12958447,  4.1605417 ,  3.08533011,  4.37991195,\n",
       "         0.35829393,  0.6543472 ,  0.71827766,  0.66015268,  0.5189675 ,\n",
       "         4.45869952,  1.49611951,  0.40660909,  4.36815859,  3.72867074,\n",
       "         0.11257086,  0.29939185,  0.71027324,  1.0248177 ,  0.5139615 ,\n",
       "         4.44364911,  0.42229389,  3.83023507,  5.23963725,  1.0096868 ,\n",
       "         4.29331043,  1.29371221,  0.79894624,  1.26192193,  0.86156612,\n",
       "         4.41542563,  4.17677009,  4.46458307,  3.87181472,  3.72204106,\n",
       "         1.20543573,  0.88784389,  4.10645937,  1.16249338,  1.27799714,\n",
       "         0.56488066,  0.41842651,  4.1582438 ,  0.73445778,  4.46438695,\n",
       "         4.3350914 ,  3.98654038,  0.64252744,  4.06731409,  1.18114177,\n",
       "         1.10870261,  0.82298002,  4.23366077,  4.18903245,  1.11532156,\n",
       "         3.86402701,  4.3763227 ,  4.16380998,  4.34152796,  4.67267   ,\n",
       "         4.9246846 ,  0.55599916,  3.9508198 ,  0.51660568,  3.41442607,\n",
       "         4.61777034,  4.25963161,  0.06300967,  1.01845934,  1.10089082,\n",
       "         0.27210181,  1.25393233,  0.7867071 ,  0.82878334,  4.09114496,\n",
       "         0.62642548,  0.74040238,  1.1629669 ,  4.311921  ,  1.37755813,\n",
       "         4.2040039 ,  0.77815982,  3.7172176 ,  4.85944545,  0.71672355,\n",
       "         1.25240953,  0.85039535,  4.00692132,  0.62742613,  3.37554962,\n",
       "         1.31939365,  1.61856055,  0.80963335,  4.4610125 ,  0.43784203,\n",
       "         3.96021936,  4.21471729,  0.28964795,  4.82435856,  4.99813893,\n",
       "         0.98287053,  0.8265384 ,  4.81421747,  4.5577999 ,  3.98318857,\n",
       "         1.13505003,  0.86740347,  0.96659932,  4.96760765,  0.6660964 ,\n",
       "         4.43127839,  4.21869122,  0.72913263,  4.82291743,  3.90653788,\n",
       "         4.22651665,  4.31651955,  1.20443153,  0.82052693,  1.15685078,\n",
       "         0.75565217,  1.11406695,  0.90911186,  1.04638809,  0.88528916,\n",
       "         4.57436065,  0.78124707,  4.67902434,  4.25059196,  4.37411491,\n",
       "         3.71505332,  4.39665974,  3.58609562,  4.42477609,  1.18403922,\n",
       "         0.18710821,  0.55266634,  3.93855564,  0.27765798,  4.47512008,\n",
       "         1.36227718,  1.00889608,  0.57381303,  3.92554101,  0.93165091,\n",
       "         0.91839182,  4.46569205,  4.07127994,  3.42321081,  1.57869172,\n",
       "         0.57946344,  0.67303216,  4.21709474,  4.52504015,  4.31297123,\n",
       "         0.84548777,  0.458665  ,  1.03206996,  1.05054478,  0.86485   ,\n",
       "         4.32735756,  0.46372124,  0.33522175,  1.3015484 ,  4.71059572,\n",
       "         4.42728782,  5.2687688 ,  3.40565867,  3.57189116,  4.46677206,\n",
       "         3.68715237,  0.6719365 ,  0.49511745,  0.65121521,  3.54995299,\n",
       "         4.35538049,  4.32456549,  0.78609795,  0.69365184,  3.96214903,\n",
       "         0.86081881,  4.21040066,  1.26074318,  4.56589282,  0.68900706,\n",
       "         0.3923945 ,  1.17623913,  0.56853233,  1.38429475,  0.30873449,\n",
       "         4.40010233,  3.78996641,  3.83654993,  0.41190311,  4.30590439,\n",
       "         0.73840441,  1.48716959,  4.45548154,  4.53869108,  4.45505234,\n",
       "         0.77142241,  1.48254933,  4.89153084,  3.87929841,  1.02898418,\n",
       "         1.56725794,  4.00857496,  4.27421746,  4.73546522,  0.41718305,\n",
       "         1.03170591,  0.81917007,  3.48485788,  0.64580349,  0.89895255,\n",
       "         0.93995166,  4.28974926,  4.64153252,  1.20065099,  1.3783428 ,\n",
       "         0.34844225,  1.43615209,  1.1412486 ,  4.24324444,  4.41060768,\n",
       "         4.69076579,  4.34567294,  4.40156471,  0.31801662,  1.60563222,\n",
       "         4.31149908,  4.28688447,  3.73702488,  4.32465336,  4.33915616,\n",
       "         4.68157912,  1.08498562,  1.39286643,  1.25003868,  3.81815637,\n",
       "         0.77458715,  4.15569035,  0.92408776,  1.54336348,  5.07560015,\n",
       "         1.1780802 ,  1.21069521,  4.11949941,  0.91527257,  1.91375631,\n",
       "         0.3787118 ,  3.75380681,  4.27386533,  0.61314112,  4.48890023,\n",
       "         0.4783955 ,  0.9164901 ,  0.21204521,  3.6333858 ,  0.79547535,\n",
       "         1.03626144,  4.41006252,  4.42971421,  4.2459606 ,  0.93606534,\n",
       "         5.03287677,  0.51809054,  4.43725706,  4.36316716,  0.35036562,\n",
       "         5.11220475,  4.39902859,  4.23088941,  0.67194325,  0.86231345,\n",
       "         4.50132204,  0.64518688,  0.66313565,  1.34363348,  4.82299612,\n",
       "         1.11332817,  0.24098237,  4.18108102,  3.95251119,  4.72297619,\n",
       "         4.12625289,  3.98188583,  0.60249095,  1.04136332,  5.01813553,\n",
       "         4.76022807,  0.91760657,  4.89231611,  1.4570885 ,  4.12865931,\n",
       "         4.73656141,  4.4072739 ,  0.97133617,  4.39199039,  3.67668024,\n",
       "         4.55054195,  4.99162305,  3.8729477 ,  1.24986814,  0.53833487,\n",
       "         3.81330885,  1.40133051,  4.43056437,  0.64036062,  3.94867527,\n",
       "         4.18762849,  0.78875322,  4.74008722,  1.12089641,  4.42836616,\n",
       "         4.88549673,  0.61324742,  3.85646256,  3.96767117,  0.95273959,\n",
       "         4.32625346,  3.68587889,  1.69315643,  4.61094829,  4.02986329,\n",
       "         4.30529568,  4.46586896,  0.20125454,  4.23235169,  4.14740598,\n",
       "         0.23844518,  1.04876733,  4.87780708,  0.76777155,  1.06219736,\n",
       "         3.63914801,  0.99294374,  4.28375369,  4.06776427,  4.47020735,\n",
       "         0.76713628,  4.56180944,  0.55275686,  4.84776674,  1.05954184,\n",
       "         3.94891495,  3.59272055,  4.38241029,  4.57577727,  4.36632692,\n",
       "         0.30593727,  0.66181084,  3.16996553,  4.30838689,  0.95912144,\n",
       "         0.91467929,  4.66620519,  4.04060691,  4.47703051,  4.6500485 ,\n",
       "         0.10543742,  4.34274739,  4.74164268,  4.40438109,  4.34356911,\n",
       "         3.70098797,  0.88961202,  1.4166005 ,  4.97641801,  5.15664869,\n",
       "         4.0048054 ,  0.56904373,  1.44462965,  4.43067461,  3.97747071,\n",
       "         1.12676421,  1.95483795,  5.00085484,  4.40224644,  0.97653608,\n",
       "         4.48367217,  1.02711397,  0.9671484 ,  3.86656272,  0.5761235 ,\n",
       "         4.91833815,  1.16021996, -0.11883186,  0.15905087,  5.25608547,\n",
       "         4.08277106,  0.93655135,  4.38838613,  0.85750626,  0.99493095,\n",
       "         5.08409749,  3.77642898,  0.97104376,  4.57642513,  4.30323331,\n",
       "         4.29009042,  1.34364859,  3.78249023,  1.02849014,  0.8609999 ,\n",
       "         4.97216454,  1.70705244,  0.67865642,  4.85377295,  1.27210668,\n",
       "         4.02800765,  1.51689038,  1.06502286,  1.15837616,  4.70263452,\n",
       "         4.85082622,  0.17043261,  4.18288744,  4.28354591,  3.20791646,\n",
       "         4.47283878,  0.77391262,  0.45601407,  0.32456946,  1.52818325,\n",
       "         4.69444294,  1.45682216,  4.03041142,  4.31394941,  3.84770881,\n",
       "         1.11370144,  1.09746295,  0.45823537,  0.63544565,  0.7475747 ,\n",
       "         0.31888753,  1.33949505,  1.08807621,  0.57676239,  4.14135861,\n",
       "         3.98072793,  3.88303529,  0.89816304,  4.47071486,  1.81385049,\n",
       "         4.0953116 ,  0.84888569,  4.17887043,  0.71892916,  4.38592035,\n",
       "         1.20755499,  3.64110129,  0.85197344,  3.91794252,  0.21287559,\n",
       "         0.95184553,  1.23544538,  4.51230883,  0.31712826,  4.31691083,\n",
       "         1.08198945,  4.72962138,  0.84252799,  0.89869213,  4.80111508,\n",
       "         4.11805225,  4.35327609,  4.89599324,  4.37278909,  1.29451839,\n",
       "         0.95770975,  4.10106079,  4.27264543,  0.2645894 ,  1.01117148,\n",
       "         3.91794476,  4.48416111,  0.04810765,  3.84220718,  1.09806055,\n",
       "         0.55360231,  4.53667716,  4.62390651,  4.47954401,  3.85742853,\n",
       "         1.01725464,  0.93822652,  4.17605596,  4.45854833,  4.66077688,\n",
       "         0.42919948,  4.02796742,  4.65069798,  1.79047022,  1.28260036,\n",
       "         4.1448786 ,  1.67234864,  3.85258279,  4.21812066,  1.46252434,\n",
       "         4.20035827,  4.23181739,  4.36646887,  0.51038923,  0.11424408,\n",
       "         4.07224746,  0.33102227,  4.14730051,  4.15996606,  4.46893566,\n",
       "         3.91225538,  4.98912442,  4.36061205,  4.46509314,  4.38088887,\n",
       "         4.66411792,  1.11699491,  4.83541247,  0.37079374,  3.24153969,\n",
       "         0.18730846,  0.78881096,  0.95122883,  4.24267756,  4.09967023,\n",
       "         4.09353109,  0.98799985,  3.809857  ,  3.83153445,  1.20928415,\n",
       "         0.44393902,  0.6296133 ,  0.58788007,  1.34722578,  3.65943597,\n",
       "         4.14307495,  0.92931235,  4.62245617,  4.27487252,  0.91986055,\n",
       "         1.28909058,  0.52082622,  1.00610878,  5.06781331,  0.92894813,\n",
       "         0.87484651,  1.42932017,  0.61430964,  1.57605147,  4.54732486,\n",
       "         1.67650312,  0.58081765,  4.32909213,  0.75463205,  0.5402339 ,\n",
       "         1.32378986,  0.68263031,  4.69134038,  0.79031457,  3.76243178,\n",
       "         3.94819878,  0.22618831,  4.08813427,  1.10763081,  4.27693367,\n",
       "         1.61544318,  5.15733463,  0.93464275,  0.78026964,  1.40055152,\n",
       "         0.74134446,  1.09285273,  0.73627999,  4.49268619,  1.22751095,\n",
       "         4.47940451,  5.40752937,  1.59237364,  1.77402287,  0.16212502,\n",
       "         1.48114956,  1.1248666 ,  3.86262484,  0.69484975,  4.12908799,\n",
       "         0.83770702,  4.25729545,  1.14086066,  4.28276041,  5.062143  ,\n",
       "         1.16057074,  3.59116219,  0.72744677,  3.68928985,  4.25734575]))"
      ]
     },
     "execution_count": 23,
     "metadata": {},
     "output_type": "execute_result"
    }
   ],
   "source": [
    "x = np.column_stack((x.feature1,x.feature2)) \n",
    "x.shape # 569 samples and 2 features \n",
    "  \n",
    "print (x),(y) "
   ]
  },
  {
   "cell_type": "code",
   "execution_count": 24,
   "metadata": {},
   "outputs": [
    {
     "name": "stdout",
     "output_type": "stream",
     "text": [
      "[659 586 517 392 201 970  76 734 626  45 798 344 406  68 591 540 211 355\n",
      " 154 256 976 513 137 864 650 422 542 605 693 672 448 205 703 866 908 635\n",
      " 775  92 831 299 226 607 861  22  59  70  23 313 520  50 159  78 304 863\n",
      " 424 795 814  39  87 232 677 827 484 719 148 777 183 948 425  99  67 825\n",
      " 260 136 375 902 712 873 918 931 679 696 582 923 476 329 529 483 345 558\n",
      " 128 955 741 761 901 163 898 480 968  46 580 350 629 929 899 627 604 372\n",
      " 525 108 817 200 124 830 983 122 953 593 315 212  58 939 714 663 960  48\n",
      " 829 297 994 736 471 702 772 548 281 437 161  71  11 652 554 655 455 493\n",
      " 203 943 291 337 439 653 560 721 173 334 790 867 869 223  69 793 510 618\n",
      " 528 893 426 113 926 630 449 620 730 228 139  27 669 167 905 875 824 940\n",
      " 119 625 697 369 619 254 420  40 813 446 952 490 101 151 565 142 255 367\n",
      " 215 638  51 386 675 944   1 250 206 170 547 689 561 886 832 271 834 927\n",
      " 909  81 698 289 494 523 720 611 892 880 414 181 376 354   4 916 403 632\n",
      " 292 735   9 252 759 155 343 888 674 460 938 770 104 308 890 290 481 413\n",
      " 871 989 691 727  97 883 731  89 409 502  77 371 152 889 657 114 301 400\n",
      " 360 457 531 339 774 379 220 322 651 779 244 838 177 243 975 436 526 278\n",
      " 285 182 856 595 877 240 746 118 364 423  75 335 704 578 895 782 921 683\n",
      " 221 911  88 512 160 208 115 485 711 496 613 361 647 664 157 465 748 225\n",
      " 966 247  93 427 466 710 724 429 971 544 937 458 645 581 900 234 553 505\n",
      " 248 559 600 574 987 261  82 192 239 614 847 951 662 549 491 274 666 435\n",
      " 338 887 391 733 353  36 246 187 640 378 684 368 933 592 397 631 195 112\n",
      " 690 468 469  73 584 224 306 699 210 840 809 186 331 673 117 286 316 377\n",
      " 756 543 942 328 459 995 138  62  15 904 991 681 500 796  43 135 165 140\n",
      "  85 837 464  52 789 539   6  29 162 317  80 828  56 562 996 310 751 418\n",
      " 207 411 237 815 686 842 575 538 395 251 649 384 415 100  55 678 171 841\n",
      " 771 612 131 633 389 352 216 718 695 359 572 794 682 776 914 969  98 598\n",
      "  83 508 894 732   3 314 349  25 408 197 218 642 125 175 385 758 440 701\n",
      " 191 537 959 164 407 230 616 126 506 428 482 209 839  60 601 706  28 950\n",
      " 979 300 217 946 878 610 370 242 293 972 144 823 709 169 947 583 713 763\n",
      " 394 214 380 180 358 262 326 249 882 194 915 726 792 536 803 516 816 390\n",
      "  13  94 590  26 852 438 309 105 589 273 267 844 636 509 475 109 147 707\n",
      " 868 760 227  65 323 330 241 768  66  38 421 925 818 998 507 515 846 533\n",
      " 145  74 134 514 784 765 196 156 602 235 705 410 881 153  49 387 102 442\n",
      "  31 805 552 564  53 754 174 463 835 872 833 188 462 963 577 320 473 617\n",
      " 739 932  54 321 213 511 133 259 280 749 903 393 441  41 451 374 723 812\n",
      " 919 781 806  33 478 757 747 541 766 773 917 341 443 405 557 190 676 269\n",
      " 472 986 388 399 656 264 498  47 545 738 120 859  72 265  17 521 204 324\n",
      " 811 820 725 276 982  84 826 786  42 990 804 715 146 238 862 132 143 432\n",
      " 949 356  21 688 599 928 658 609 116 325 981 941 266 964 454 660 934 810\n",
      " 296 802 530 876 978 576 404  90 556 445 821 130 596 694 198 935 363 819\n",
      " 962 121 569 603 284 767 532 488 891 623 753 845  16 717 671  20 327 961\n",
      " 185 333 522 303 745 634 849 184 879  95 956 332 597 519 799 884 787  30\n",
      " 141 501 755 288 263 913 628 853 906   5 778 936 808 780 535 253 447 974\n",
      " 992 615 103 452 822 606 366 499 980 807 298 857 318 294 573 106 967 382\n",
      "   0   8 997 639 277 801 233 305 988 550 295 885 752 750 433 551 319 236\n",
      " 973 489 149 958 412 622 467 336 381 924 957  12 692 744 503 851 189  63\n",
      "  35 470 922 453 624 762 567 357 347  64 129 178  34 431 342 107 665 608\n",
      " 579 257 850 497 644 229 687 166 800 396 524 231 587  18 283 402 865  32\n",
      " 764 340 930 222 258 945 654 783 965 791 419 287 648 737  24 311 588 858\n",
      "   2 566 348  96 870 897 855 570 312 279 685 836 910  57 621 907 495 416\n",
      " 668 486 568 708 456 700 716 788  79   7 637  37 670 680 848 585 977 785\n",
      " 843 797 912 362 954  44 504  14 199 282 722 646 643 302 555 563 398  61\n",
      " 127 111 434 527 667 272 896 740 268 417  86 307 985 270 245 450 123 474\n",
      " 874 487 110 769 179  91 430 150 920 202 546 594  19 641 351 742 479 993\n",
      " 275 193 444 176 346 172 860 401 854 999 477 492  10 461 365 571 158 661\n",
      " 219 728 373 743 984 383 518 168 534 729]\n",
      "continuous\n",
      "multiclass\n",
      "multiclass\n"
     ]
    }
   ],
   "source": [
    "from sklearn import preprocessing\n",
    "lab_enc = preprocessing.LabelEncoder()\n",
    "training_scores_encoded = lab_enc.fit_transform(y)\n",
    "print(training_scores_encoded)\n",
    "print(utils.multiclass.type_of_target(y))\n",
    "print(utils.multiclass.type_of_target(y.astype('int')))\n",
    "print(utils.multiclass.type_of_target(training_scores_encoded))"
   ]
  },
  {
   "cell_type": "code",
   "execution_count": 25,
   "metadata": {},
   "outputs": [
    {
     "data": {
      "text/plain": [
       "SVC(C=1.0, break_ties=False, cache_size=200, class_weight=None, coef0=0.0,\n",
       "    decision_function_shape='ovr', degree=3, gamma='scale', kernel='linear',\n",
       "    max_iter=-1, probability=False, random_state=None, shrinking=True,\n",
       "    tol=0.001, verbose=False)"
      ]
     },
     "execution_count": 25,
     "metadata": {},
     "output_type": "execute_result"
    }
   ],
   "source": [
    "#Fitting a SVM Model\n",
    "\n",
    "clf = SVC(kernel='linear') \n",
    "  \n",
    "# fitting \n",
    "clf.fit(x, training_scores_encoded) "
   ]
  },
  {
   "cell_type": "code",
   "execution_count": 26,
   "metadata": {},
   "outputs": [],
   "source": [
    "#SVM Decision Boundary Function"
   ]
  },
  {
   "cell_type": "code",
   "execution_count": 27,
   "metadata": {},
   "outputs": [],
   "source": [
    "def SVM_Decision_Boundary(clf, ax=None, plot_support=True):\n",
    "    \n",
    "    if ax is None:\n",
    "        ax = plt.gca()\n",
    "    xlim = ax.get_xlim()\n",
    "    ylim = ax.get_ylim()\n",
    "    \n",
    "\n",
    "    x = np.linspace(xlim[0], xlim[1], 30)\n",
    "    y = np.linspace(ylim[0], ylim[1], 30)\n",
    "    Y, X = np.meshgrid(y, x)\n",
    "    xy = np.vstack([X.ravel(), Y.ravel()]).T\n",
    "    P = clf.decision_function(xy).reshape(X.shape)\n",
    "    \n",
    "\n",
    "    ax.contour(X, Y, P, colors='k',\n",
    "               levels=[-1, 0, 1], alpha=0.5,\n",
    "               linestyles=['--', '-', '--'])\n",
    "    \n",
    "    if plot_support:\n",
    "        ax.scatter(clf.support_vectors_[:, 0],\n",
    "                   clf.support_vectors_[:, 1],\n",
    "                   s=300, linewidth=1, facecolors='none');\n",
    "    ax.set_xlim(xlim)\n",
    "    ax.set_ylim(ylim)"
   ]
  },
  {
   "cell_type": "code",
   "execution_count": 28,
   "metadata": {},
   "outputs": [],
   "source": [
    "#plt.scatter(X[:,0],X[:,1],c=Y,s=50,cmap='spring')\n",
    "#SVM_Decision_Boundary(clf);"
   ]
  },
  {
   "cell_type": "code",
   "execution_count": 29,
   "metadata": {},
   "outputs": [],
   "source": [
    "#Support Vectors Points"
   ]
  },
  {
   "cell_type": "code",
   "execution_count": 30,
   "metadata": {},
   "outputs": [
    {
     "data": {
      "text/plain": [
       "array([[ 2.26043426, -0.11883186],\n",
       "       [ 2.32165438, -0.11615812],\n",
       "       [ 2.64923776,  0.04810765],\n",
       "       ...,\n",
       "       [ 0.96196285,  5.25608547],\n",
       "       [ 0.7751434 ,  5.2687688 ],\n",
       "       [ 1.16871613,  5.40752937]])"
      ]
     },
     "execution_count": 30,
     "metadata": {},
     "output_type": "execute_result"
    }
   ],
   "source": [
    "clf.support_vectors_"
   ]
  },
  {
   "cell_type": "code",
   "execution_count": 31,
   "metadata": {},
   "outputs": [],
   "source": [
    "# def plot_svm(N=10, ax=None):\n",
    "#     X, y = make_blobs(n_samples=1000, centers=2,\n",
    "#                       random_state=0, cluster_std=0.40)\n",
    "#     X = X[:N]\n",
    "#     y = y[:N]\n",
    "#     clf = SVC(kernel='linear', C=1E10)\n",
    "#     clf.fit(x, training_scores_encoded) \n",
    "    \n",
    "#     ax = ax or plt.gca()\n",
    "#     ax.scatter(X[:, 0], X[:, 1], c=Y, s=50, cmap='autumn')\n",
    "#     ax.set_xlim(-1, 4)\n",
    "#     ax.set_ylim(-1, 6)\n",
    "#     SVM_Decision_Boundary(clf, ax)\n",
    "\n",
    "# fig, ax = plt.subplots(1, 2, figsize=(16, 6))\n",
    "# fig.subplots_adjust(left=0.0625, right=0.95, wspace=0.1)\n",
    "# for axi, N in zip(ax, [1000, 120]):\n",
    "#     plot_svm(N, axi)\n",
    "#     axi.set_title('N = {0}'.format(N))"
   ]
  },
  {
   "cell_type": "code",
   "execution_count": 32,
   "metadata": {},
   "outputs": [],
   "source": [
    "# from ipywidgets import interact, fixed\n",
    "# interact(plot_svm, N=[10, 200], ax=fixed(None));"
   ]
  },
  {
   "cell_type": "code",
   "execution_count": 33,
   "metadata": {},
   "outputs": [],
   "source": [
    "df=pd.DataFrame(X,Y)"
   ]
  },
  {
   "cell_type": "code",
   "execution_count": 34,
   "metadata": {},
   "outputs": [],
   "source": [
    "df1=df"
   ]
  },
  {
   "cell_type": "code",
   "execution_count": 36,
   "metadata": {},
   "outputs": [],
   "source": [
    "#Dropping of Rows which are not Support Vectors and Store it into df2...\n",
    "\n",
    "df2=df1.drop(df1.index == 'clf.support_vectors_')\n"
   ]
  },
  {
   "cell_type": "code",
   "execution_count": 37,
   "metadata": {},
   "outputs": [],
   "source": [
    "#Storing the Support Vectors into df3"
   ]
  },
  {
   "cell_type": "code",
   "execution_count": 38,
   "metadata": {},
   "outputs": [],
   "source": [
    "df3=df.drop(df.index != 'clf.support_vectors_')"
   ]
  },
  {
   "cell_type": "code",
   "execution_count": 39,
   "metadata": {},
   "outputs": [
    {
     "data": {
      "text/plain": [
       "0    500\n",
       "1    500\n",
       "dtype: int64"
      ]
     },
     "execution_count": 39,
     "metadata": {},
     "output_type": "execute_result"
    }
   ],
   "source": [
    "# NO of Rows which are not Support Vectors\n",
    "# 500 Rows\n",
    "\n",
    "df2.count()"
   ]
  },
  {
   "cell_type": "code",
   "execution_count": 40,
   "metadata": {},
   "outputs": [
    {
     "data": {
      "text/plain": [
       "0    500\n",
       "1    500\n",
       "dtype: int64"
      ]
     },
     "execution_count": 40,
     "metadata": {},
     "output_type": "execute_result"
    }
   ],
   "source": [
    "# NO of Support Vectors points\n",
    "# 500\n",
    "\n",
    "df3.count()"
   ]
  },
  {
   "cell_type": "code",
   "execution_count": 41,
   "metadata": {},
   "outputs": [],
   "source": [
    "# Fitting a SVM model after removing some data points other than Support Vectors"
   ]
  },
  {
   "cell_type": "code",
   "execution_count": 42,
   "metadata": {},
   "outputs": [
    {
     "data": {
      "text/plain": [
       "SVC(C=1.0, break_ties=False, cache_size=200, class_weight=None, coef0=0.0,\n",
       "    decision_function_shape='ovr', degree=3, gamma='scale', kernel='linear',\n",
       "    max_iter=-1, probability=False, random_state=None, shrinking=True,\n",
       "    tol=0.001, verbose=False)"
      ]
     },
     "execution_count": 42,
     "metadata": {},
     "output_type": "execute_result"
    }
   ],
   "source": [
    "clf = SVC(kernel='linear') \n",
    "  \n",
    "# fitting \n",
    "clf.fit(x, training_scores_encoded) "
   ]
  },
  {
   "cell_type": "code",
   "execution_count": 43,
   "metadata": {},
   "outputs": [],
   "source": [
    "# Below cell shows removing of data points other than Support Vectors does not affect Decision Boundary.."
   ]
  },
  {
   "cell_type": "code",
   "execution_count": 44,
   "metadata": {},
   "outputs": [
    {
     "data": {
      "text/plain": [
       "array([[ 2.26043426, -0.11883186],\n",
       "       [ 2.32165438, -0.11615812],\n",
       "       [ 2.64923776,  0.04810765],\n",
       "       ...,\n",
       "       [ 0.96196285,  5.25608547],\n",
       "       [ 0.7751434 ,  5.2687688 ],\n",
       "       [ 1.16871613,  5.40752937]])"
      ]
     },
     "execution_count": 44,
     "metadata": {},
     "output_type": "execute_result"
    }
   ],
   "source": [
    "clf.support_vectors_"
   ]
  },
  {
   "cell_type": "code",
   "execution_count": 50,
   "metadata": {},
   "outputs": [],
   "source": [
    "# Thank You"
   ]
  }
 ],
 "metadata": {
  "kernelspec": {
   "display_name": "Python 3",
   "language": "python",
   "name": "python3"
  },
  "language_info": {
   "codemirror_mode": {
    "name": "ipython",
    "version": 3
   },
   "file_extension": ".py",
   "mimetype": "text/x-python",
   "name": "python",
   "nbconvert_exporter": "python",
   "pygments_lexer": "ipython3",
   "version": "3.7.6"
  }
 },
 "nbformat": 4,
 "nbformat_minor": 4
}
